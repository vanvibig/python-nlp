{
 "cells": [
  {
   "cell_type": "markdown",
   "id": "ccce66b2",
   "metadata": {},
   "source": [
    " create -n ml37 python=3.7 conda jupyter -c conda-forge"
   ]
  },
  {
   "cell_type": "markdown",
   "id": "e8c40cc2",
   "metadata": {},
   "source": [
    "conda install pytorch torchvision torchaudio cudatoolkit=11.1 cudnn nvcc_win-64 tensorflow=2.5 cupy -c pytorch -c conda-forge"
   ]
  },
  {
   "cell_type": "code",
   "execution_count": null,
   "id": "e63e691b",
   "metadata": {},
   "outputs": [],
   "source": []
  }
 ],
 "metadata": {
  "kernelspec": {
   "display_name": "Python 3 (ipykernel)",
   "language": "python",
   "name": "python3"
  },
  "language_info": {
   "codemirror_mode": {
    "name": "ipython",
    "version": 3
   },
   "file_extension": ".py",
   "mimetype": "text/x-python",
   "name": "python",
   "nbconvert_exporter": "python",
   "pygments_lexer": "ipython3",
   "version": "3.7.10"
  }
 },
 "nbformat": 4,
 "nbformat_minor": 5
}
