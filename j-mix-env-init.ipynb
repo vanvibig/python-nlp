{
 "cells": [
  {
   "cell_type": "markdown",
   "source": [
    "conda create -n mlvi python=3.7 conda jupyterlab -c conda-forge"
   ],
   "metadata": {}
  },
  {
   "cell_type": "markdown",
   "source": [
    "pip install -r j-requirements.txt"
   ],
   "metadata": {}
  },
  {
   "cell_type": "markdown",
   "source": [
    "conda install -c conda-forge cupy cudatoolkit=11 cudnn nvcc_win-64"
   ],
   "metadata": {}
  },
  {
   "cell_type": "code",
   "execution_count": null,
   "source": [],
   "outputs": [],
   "metadata": {}
  }
 ],
 "metadata": {
  "kernelspec": {
   "display_name": "Python 3 (ipykernel)",
   "language": "python",
   "name": "python3"
  },
  "language_info": {
   "codemirror_mode": {
    "name": "ipython",
    "version": 3
   },
   "file_extension": ".py",
   "mimetype": "text/x-python",
   "name": "python",
   "nbconvert_exporter": "python",
   "pygments_lexer": "ipython3",
   "version": "3.7.10"
  }
 },
 "nbformat": 4,
 "nbformat_minor": 5
}